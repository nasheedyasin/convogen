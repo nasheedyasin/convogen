{
 "cells": [
  {
   "cell_type": "code",
   "execution_count": 1,
   "metadata": {},
   "outputs": [
    {
     "data": {
      "text/plain": [
       "'/projects/academic/rohini/m44/software/2023.01/hf-home'"
      ]
     },
     "execution_count": 1,
     "metadata": {},
     "output_type": "execute_result"
    }
   ],
   "source": [
    "import os\n",
    "\n",
    "os.environ['HF_HOME']"
   ]
  },
  {
   "cell_type": "code",
   "execution_count": 2,
   "metadata": {},
   "outputs": [
    {
     "data": {
      "application/vnd.jupyter.widget-view+json": {
       "model_id": "2bb3457c6e31498181a74b436109b51b",
       "version_major": 2,
       "version_minor": 0
      },
      "text/plain": [
       "Loading checkpoint shards:   0%|          | 0/2 [00:00<?, ?it/s]"
      ]
     },
     "metadata": {},
     "output_type": "display_data"
    }
   ],
   "source": [
    "from utils import TextGenerator\n",
    "\n",
    "text_gen = TextGenerator('mistralai/Mistral-7B-Instruct-v0.1', load_in_4bit=False)"
   ]
  },
  {
   "cell_type": "markdown",
   "metadata": {},
   "source": [
    "## Generate Dispositions"
   ]
  },
  {
   "cell_type": "code",
   "execution_count": null,
   "metadata": {},
   "outputs": [],
   "source": [
    "disp_task_que = ''\n",
    "disp_system_message = \"You are an expet psychologist who excels in describing a person's disposition\""
   ]
  },
  {
   "cell_type": "code",
   "execution_count": null,
   "metadata": {},
   "outputs": [],
   "source": [
    "import pathlib\n",
    "\n",
    "disp_inst = pathlib.Path('/projects/academic/rohini/m44/misinfo-proj/datasets/inst-templates/expt2/disposition-gen.txt').read_text()"
   ]
  },
  {
   "cell_type": "code",
   "execution_count": null,
   "metadata": {},
   "outputs": [],
   "source": [
    "dispositions = text_gen(disp_system_message, disp_task_que, disp_inst)\n",
    "print(dispositions)"
   ]
  },
  {
   "cell_type": "markdown",
   "metadata": {},
   "source": [
    "## Generate Conversations"
   ]
  },
  {
   "cell_type": "code",
   "execution_count": null,
   "metadata": {},
   "outputs": [],
   "source": [
    "task_que = '(conversation)'\n",
    "system_message = \"You are an expert dialog writer. You write compelling conversations with characters that have rich, well developed personalities.\""
   ]
  },
  {
   "cell_type": "code",
   "execution_count": null,
   "metadata": {},
   "outputs": [],
   "source": [
    "import pandas as pd\n",
    "\n",
    "\n",
    "df = pd.read_csv(\"/projects/academic/rohini/m44/misinfo-proj/datasets/scraped_crowdsource_data.tsv\", delimiter='\\t')"
   ]
  },
  {
   "cell_type": "code",
   "execution_count": null,
   "metadata": {},
   "outputs": [],
   "source": [
    "tweet = df.iloc[0]['tweet']"
   ]
  },
  {
   "cell_type": "code",
   "execution_count": null,
   "metadata": {},
   "outputs": [],
   "source": [
    "import random\n",
    "import pathlib\n",
    "\n",
    "# Choosing the misinformed person's personality\n",
    "disposition_dir = pathlib.Path('/projects/academic/rohini/m44/misinfo-proj/datasets/inst-templates/expt2/disposition')\n",
    "disposition = random.choice(sorted(disposition_dir.glob('*.txt')))\n",
    "disposition = disposition.read_text()"
   ]
  },
  {
   "cell_type": "code",
   "execution_count": null,
   "metadata": {},
   "outputs": [],
   "source": [
    "inst_path = pathlib.Path('/projects/academic/rohini/m44/misinfo-proj/datasets/inst-templates/expt2/conv-gen.txt')\n",
    "inst = inst_path.read_text()\n",
    "\n",
    "# Add the tweet to the `inst`\n",
    "inst = inst.format(disposition, tweet)\n",
    "print(inst)"
   ]
  },
  {
   "cell_type": "code",
   "execution_count": null,
   "metadata": {},
   "outputs": [],
   "source": [
    "op_step1 = text_gen(system_message, task_que, inst)\n",
    "print(op_step1)"
   ]
  },
  {
   "cell_type": "markdown",
   "metadata": {},
   "source": [
    "### Generate the next few turns"
   ]
  },
  {
   "cell_type": "code",
   "execution_count": null,
   "metadata": {},
   "outputs": [],
   "source": [
    "new_inst = f\"Given the dialog (history), generate the next 4 turns of a possibly longer (conversation).\\n\\n(history)\\n{op_step1}\""
   ]
  },
  {
   "cell_type": "code",
   "execution_count": null,
   "metadata": {},
   "outputs": [],
   "source": [
    "op_step2 = text_gen(system_message, task_que, new_inst)\n",
    "print(op_step2)"
   ]
  },
  {
   "cell_type": "markdown",
   "metadata": {},
   "source": [
    "## Batch Generate"
   ]
  },
  {
   "cell_type": "code",
   "execution_count": null,
   "metadata": {},
   "outputs": [],
   "source": [
    "from utils import BatchTextGenerator\n",
    "\n",
    "text_gen = BatchTextGenerator('meta-llama/Llama-2-13b-chat-hf', load_in_4bit=False)"
   ]
  },
  {
   "cell_type": "code",
   "execution_count": null,
   "metadata": {},
   "outputs": [],
   "source": [
    "batch_size = 16\n",
    "tweets = df.sample(n=batch_size)[['tweet']]"
   ]
  },
  {
   "cell_type": "code",
   "execution_count": null,
   "metadata": {},
   "outputs": [],
   "source": [
    "import random\n",
    "import pathlib\n",
    "\n",
    "# Choosing the misinformed person's personality\n",
    "disposition_dir = pathlib.Path('/projects/academic/rohini/m44/misinfo-proj/datasets/inst-templates/expt2/disposition')\n",
    "dispositions = random.choices(sorted(disposition_dir.glob('*.txt')), k=batch_size)\n",
    "dispositions = [disp.read_text() for disp in dispositions]\n",
    "# print(dispositions)"
   ]
  },
  {
   "cell_type": "code",
   "execution_count": null,
   "metadata": {},
   "outputs": [],
   "source": [
    "inst_path = pathlib.Path('/projects/academic/rohini/m44/misinfo-proj/datasets/inst-templates/expt2/conv-gen.txt')\n",
    "inst = inst_path.read_text()\n",
    "\n",
    "instructions = [\n",
    "    inst.format(disp, tweet)\n",
    "        for disp, (id, tweet) in zip(dispositions, tweets.itertuples())\n",
    "]\n"
   ]
  },
  {
   "cell_type": "code",
   "execution_count": null,
   "metadata": {},
   "outputs": [],
   "source": [
    "batch_op = text_gen(system_message, task_que, instructions)\n",
    "print(batch_op)"
   ]
  }
 ],
 "metadata": {
  "kernelspec": {
   "display_name": "Python 3.11.4",
   "language": "python",
   "name": "python3"
  },
  "language_info": {
   "codemirror_mode": {
    "name": "ipython",
    "version": 3
   },
   "file_extension": ".py",
   "mimetype": "text/x-python",
   "name": "python",
   "nbconvert_exporter": "python",
   "pygments_lexer": "ipython3",
   "version": "3.11.5"
  },
  "orig_nbformat": 4,
  "vscode": {
   "interpreter": {
    "hash": "4e75b6be2e5658e850e4723bf6b27c4b091414b284627d2be0c94c459b19cd59"
   }
  }
 },
 "nbformat": 4,
 "nbformat_minor": 2
}
