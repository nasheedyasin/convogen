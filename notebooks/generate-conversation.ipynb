{
 "cells": [
  {
   "cell_type": "markdown",
   "metadata": {},
   "source": [
    "## Data Setup"
   ]
  },
  {
   "cell_type": "code",
   "execution_count": 1,
   "metadata": {},
   "outputs": [],
   "source": [
    "task_que = '(conversation)'\n",
    "system_message = \"You are an expert in generating realistic 2-party dialogs.\"\n",
    "# system_message = \"\""
   ]
  },
  {
   "cell_type": "markdown",
   "metadata": {},
   "source": [
    "### Fetch Tweets"
   ]
  },
  {
   "cell_type": "code",
   "execution_count": 2,
   "metadata": {},
   "outputs": [],
   "source": [
    "import pandas as pd\n",
    "\n",
    "data_path = \"../datasets/sample-tweets.csv\"\n",
    "df = pd.read_csv(data_path)#, delimiter='\\t')"
   ]
  },
  {
   "cell_type": "markdown",
   "metadata": {},
   "source": [
    "### Build User profile"
   ]
  },
  {
   "cell_type": "code",
   "execution_count": 3,
   "metadata": {},
   "outputs": [],
   "source": [
    "batch_size = 16"
   ]
  },
  {
   "cell_type": "code",
   "execution_count": 4,
   "metadata": {},
   "outputs": [],
   "source": [
    "import json\n",
    "import pathlib\n",
    "\n",
    "expt_name = \"expt3_1\"\n",
    "\n",
    "expt_setup = json.loads(\n",
    "    pathlib.Path(\n",
    "        f'../datasets/inst-templates/{expt_name}/expt-setup.json'\n",
    "    ).read_bytes()\n",
    ")\n",
    "\n",
    "raw_user_profiles = expt_setup['user_profiles']"
   ]
  },
  {
   "cell_type": "code",
   "execution_count": 5,
   "metadata": {},
   "outputs": [
    {
     "data": {
      "text/plain": [
       "'meta-llama/Llama-2-70b-chat-hf'"
      ]
     },
     "execution_count": 5,
     "metadata": {},
     "output_type": "execute_result"
    }
   ],
   "source": [
    "expt_setup['llm']"
   ]
  },
  {
   "cell_type": "code",
   "execution_count": 6,
   "metadata": {},
   "outputs": [],
   "source": [
    "import random\n",
    "\n",
    "# These are a list of pairings of the user's motivations and dispositions\n",
    "user_profiles = []\n",
    "\n",
    "for motivation in raw_user_profiles:\n",
    "    for disposition in motivation['dispositions']:\n",
    "        user_profiles.append(\n",
    "            (\n",
    "                pathlib.Path(motivation['path']).read_text(),\n",
    "                pathlib.Path(disposition['path']).read_text()\n",
    "            )\n",
    "        )"
   ]
  },
  {
   "cell_type": "markdown",
   "metadata": {},
   "source": [
    "### Fetch instruction template"
   ]
  },
  {
   "cell_type": "code",
   "execution_count": 7,
   "metadata": {},
   "outputs": [],
   "source": [
    "inst_path = pathlib.Path(f'../datasets/inst-templates/{expt_name}/conv-gen.txt')\n",
    "inst = inst_path.read_text()"
   ]
  },
  {
   "cell_type": "markdown",
   "metadata": {},
   "source": [
    "## Batch Generate Conversations"
   ]
  },
  {
   "cell_type": "code",
   "execution_count": 8,
   "metadata": {},
   "outputs": [],
   "source": [
    "output_dir = pathlib.Path(f\"../datasets/inst-templates/{expt_name}/conversations\")"
   ]
  },
  {
   "cell_type": "code",
   "execution_count": 9,
   "metadata": {},
   "outputs": [
    {
     "data": {
      "application/vnd.jupyter.widget-view+json": {
       "model_id": "66b3a486b5894359a4d13e96ea1f1a7b",
       "version_major": 2,
       "version_minor": 0
      },
      "text/plain": [
       "Loading checkpoint shards:   0%|          | 0/15 [00:00<?, ?it/s]"
      ]
     },
     "metadata": {},
     "output_type": "display_data"
    }
   ],
   "source": [
    "import torch # Incase you want to load in half precision: `torch.float16`\n",
    "from generation_utils import BatchTextGenerator\n",
    "\n",
    "text_gen = BatchTextGenerator(expt_setup['llm'], load_in_4bit=True)"
   ]
  },
  {
   "cell_type": "code",
   "execution_count": 11,
   "metadata": {},
   "outputs": [
    {
     "name": "stderr",
     "output_type": "stream",
     "text": [
      "Processing batch: 100%|██████████| 1/1 [17:23<00:00, 1043.31s/it]\n"
     ]
    }
   ],
   "source": [
    "import json\n",
    "from tqdm import tqdm\n",
    "\n",
    "\n",
    "df_with_progbar = tqdm(df.groupby(df.index//batch_size), desc=\"Processing batch\")\n",
    "\n",
    "for batch_idx, batch_df in df_with_progbar:\n",
    "    idxes = list(batch_df.index)\n",
    "    tweet_ids = list(batch_df['tweet_id'])    \n",
    "    batch_user_profiles = random.choices(\n",
    "        user_profiles, k=batch_size\n",
    "    )\n",
    "\n",
    "    instructions = [\n",
    "        inst.format(disp, motv, tweet)\n",
    "            for (motv, disp), (_, _, tweet) in zip(\n",
    "                batch_user_profiles,\n",
    "                batch_df.itertuples()\n",
    "            )\n",
    "    ]\n",
    "\n",
    "    batch_op = text_gen(system_message, task_que, instructions)\n",
    "\n",
    "    # Build output jsons\n",
    "    for idx, id, convo, (_, _, tweet), (motv, disp) in zip(\n",
    "        idxes, tweet_ids, batch_op,\n",
    "        batch_df.itertuples(),\n",
    "        batch_user_profiles\n",
    "    ):\n",
    "        convo_json = {\n",
    "            'tweet_id': id,\n",
    "            'disposition': disp,\n",
    "            'motivation': motv,\n",
    "            'tweet': tweet,\n",
    "            'conv': convo\n",
    "        }\n",
    "\n",
    "        convo_file = output_dir.joinpath(f'{idx}.json')\n",
    "        convo_file.write_text(json.dumps(convo_json))\n"
   ]
  }
 ],
 "metadata": {
  "kernelspec": {
   "display_name": "Python 3.11.4",
   "language": "python",
   "name": "python3"
  },
  "language_info": {
   "codemirror_mode": {
    "name": "ipython",
    "version": 3
   },
   "file_extension": ".py",
   "mimetype": "text/x-python",
   "name": "python",
   "nbconvert_exporter": "python",
   "pygments_lexer": "ipython3",
   "version": "3.11.5"
  },
  "orig_nbformat": 4,
  "vscode": {
   "interpreter": {
    "hash": "4e75b6be2e5658e850e4723bf6b27c4b091414b284627d2be0c94c459b19cd59"
   }
  }
 },
 "nbformat": 4,
 "nbformat_minor": 2
}
