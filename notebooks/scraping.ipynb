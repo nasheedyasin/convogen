{
 "cells": [
  {
   "cell_type": "code",
   "execution_count": null,
   "metadata": {},
   "outputs": [],
   "source": [
    "# Load model directly\n",
    "from transformers import AutoTokenizer, AutoModelForCausalLM\n",
    "\n",
    "tokenizer = AutoTokenizer.from_pretrained(\"meta-llama/Llama-2-13b-chat-hf\")\n",
    "model = AutoModelForCausalLM.from_pretrained(\"meta-llama/Llama-2-13b-chat-hf\")"
   ]
  },
  {
   "cell_type": "code",
   "execution_count": 7,
   "metadata": {},
   "outputs": [
    {
     "data": {
      "text/html": [
       "<div>\n",
       "<style scoped>\n",
       "    .dataframe tbody tr th:only-of-type {\n",
       "        vertical-align: middle;\n",
       "    }\n",
       "\n",
       "    .dataframe tbody tr th {\n",
       "        vertical-align: top;\n",
       "    }\n",
       "\n",
       "    .dataframe thead th {\n",
       "        text-align: right;\n",
       "    }\n",
       "</style>\n",
       "<table border=\"1\" class=\"dataframe\">\n",
       "  <thead>\n",
       "    <tr style=\"text-align: right;\">\n",
       "      <th></th>\n",
       "      <th>tweet_id</th>\n",
       "      <th>human_written_reply</th>\n",
       "    </tr>\n",
       "  </thead>\n",
       "  <tbody>\n",
       "    <tr>\n",
       "      <th>0</th>\n",
       "      <td>1375154120106074114</td>\n",
       "      <td>This is not correct. Actually, mRNA vaccine wi...</td>\n",
       "    </tr>\n",
       "    <tr>\n",
       "      <th>1</th>\n",
       "      <td>1373234271201206274</td>\n",
       "      <td>It is a conspiracy theory. Bill Gates has noth...</td>\n",
       "    </tr>\n",
       "    <tr>\n",
       "      <th>2</th>\n",
       "      <td>1351618808616787968</td>\n",
       "      <td>You description about the vaccine is not accur...</td>\n",
       "    </tr>\n",
       "    <tr>\n",
       "      <th>3</th>\n",
       "      <td>1407787388924006401</td>\n",
       "      <td>The evidence you mentioned is wrong. The vacci...</td>\n",
       "    </tr>\n",
       "    <tr>\n",
       "      <th>4</th>\n",
       "      <td>1351430882867994625</td>\n",
       "      <td>Please stop this misinformation. What you are ...</td>\n",
       "    </tr>\n",
       "    <tr>\n",
       "      <th>...</th>\n",
       "      <td>...</td>\n",
       "      <td>...</td>\n",
       "    </tr>\n",
       "    <tr>\n",
       "      <th>586</th>\n",
       "      <td>1374556326504894465</td>\n",
       "      <td>Your highlighted claim is not correct. As debu...</td>\n",
       "    </tr>\n",
       "    <tr>\n",
       "      <th>587</th>\n",
       "      <td>1375085164192206855</td>\n",
       "      <td>Sorry to see your misleading post. I understan...</td>\n",
       "    </tr>\n",
       "    <tr>\n",
       "      <th>588</th>\n",
       "      <td>1395036936218284035</td>\n",
       "      <td>Well, your mentioned microchip is not correct....</td>\n",
       "    </tr>\n",
       "    <tr>\n",
       "      <th>589</th>\n",
       "      <td>1395959987726274561</td>\n",
       "      <td>Your claims are inaccurate. The covid19 is not...</td>\n",
       "    </tr>\n",
       "    <tr>\n",
       "      <th>590</th>\n",
       "      <td>1402517058840039426</td>\n",
       "      <td>The claims are not correct. The vaccine is not...</td>\n",
       "    </tr>\n",
       "  </tbody>\n",
       "</table>\n",
       "<p>591 rows × 2 columns</p>\n",
       "</div>"
      ],
      "text/plain": [
       "                tweet_id                                human_written_reply\n",
       "0    1375154120106074114  This is not correct. Actually, mRNA vaccine wi...\n",
       "1    1373234271201206274  It is a conspiracy theory. Bill Gates has noth...\n",
       "2    1351618808616787968  You description about the vaccine is not accur...\n",
       "3    1407787388924006401  The evidence you mentioned is wrong. The vacci...\n",
       "4    1351430882867994625  Please stop this misinformation. What you are ...\n",
       "..                   ...                                                ...\n",
       "586  1374556326504894465  Your highlighted claim is not correct. As debu...\n",
       "587  1375085164192206855  Sorry to see your misleading post. I understan...\n",
       "588  1395036936218284035  Well, your mentioned microchip is not correct....\n",
       "589  1395959987726274561  Your claims are inaccurate. The covid19 is not...\n",
       "590  1402517058840039426  The claims are not correct. The vaccine is not...\n",
       "\n",
       "[591 rows x 2 columns]"
      ]
     },
     "execution_count": 7,
     "metadata": {},
     "output_type": "execute_result"
    }
   ],
   "source": [
    "df"
   ]
  },
  {
   "cell_type": "code",
   "execution_count": 8,
   "metadata": {},
   "outputs": [],
   "source": [
    "DATA2 = r\"C:\\Users\\nashe\\Box\\Research\\misinfo-prj\\datasets\\social_media_data.pkl\""
   ]
  },
  {
   "cell_type": "code",
   "execution_count": 9,
   "metadata": {},
   "outputs": [
    {
     "data": {
      "text/html": [
       "<div>\n",
       "<style scoped>\n",
       "    .dataframe tbody tr th:only-of-type {\n",
       "        vertical-align: middle;\n",
       "    }\n",
       "\n",
       "    .dataframe tbody tr th {\n",
       "        vertical-align: top;\n",
       "    }\n",
       "\n",
       "    .dataframe thead th {\n",
       "        text-align: right;\n",
       "    }\n",
       "</style>\n",
       "<table border=\"1\" class=\"dataframe\">\n",
       "  <thead>\n",
       "    <tr style=\"text-align: right;\">\n",
       "      <th></th>\n",
       "      <th>reply_id</th>\n",
       "      <th>tweet_id</th>\n",
       "      <th>refutation</th>\n",
       "      <th>evidence</th>\n",
       "      <th>politeness</th>\n",
       "    </tr>\n",
       "  </thead>\n",
       "  <tbody>\n",
       "    <tr>\n",
       "      <th>0</th>\n",
       "      <td>1335913130711371777</td>\n",
       "      <td>1335892654832320513</td>\n",
       "      <td>1</td>\n",
       "      <td>0</td>\n",
       "      <td>0</td>\n",
       "    </tr>\n",
       "    <tr>\n",
       "      <th>1</th>\n",
       "      <td>1336107858140803074</td>\n",
       "      <td>1335916733148913665</td>\n",
       "      <td>1</td>\n",
       "      <td>0</td>\n",
       "      <td>0</td>\n",
       "    </tr>\n",
       "    <tr>\n",
       "      <th>2</th>\n",
       "      <td>1335961370127380488</td>\n",
       "      <td>1335916733148913665</td>\n",
       "      <td>0</td>\n",
       "      <td>0</td>\n",
       "      <td>1</td>\n",
       "    </tr>\n",
       "    <tr>\n",
       "      <th>3</th>\n",
       "      <td>1335988879921442818</td>\n",
       "      <td>1335977737719308294</td>\n",
       "      <td>0</td>\n",
       "      <td>0</td>\n",
       "      <td>0</td>\n",
       "    </tr>\n",
       "    <tr>\n",
       "      <th>4</th>\n",
       "      <td>1335982116526546945</td>\n",
       "      <td>1335977737719308294</td>\n",
       "      <td>1</td>\n",
       "      <td>0</td>\n",
       "      <td>0</td>\n",
       "    </tr>\n",
       "    <tr>\n",
       "      <th>...</th>\n",
       "      <td>...</td>\n",
       "      <td>...</td>\n",
       "      <td>...</td>\n",
       "      <td>...</td>\n",
       "      <td>...</td>\n",
       "    </tr>\n",
       "    <tr>\n",
       "      <th>749</th>\n",
       "      <td>1411545172903534595</td>\n",
       "      <td>1411545172903534595</td>\n",
       "      <td>0</td>\n",
       "      <td>1</td>\n",
       "      <td>0</td>\n",
       "    </tr>\n",
       "    <tr>\n",
       "      <th>750</th>\n",
       "      <td>1412069858464894980</td>\n",
       "      <td>1412068692876275718</td>\n",
       "      <td>1</td>\n",
       "      <td>1</td>\n",
       "      <td>1</td>\n",
       "    </tr>\n",
       "    <tr>\n",
       "      <th>751</th>\n",
       "      <td>1412581535836872706</td>\n",
       "      <td>1412559319577501697</td>\n",
       "      <td>0</td>\n",
       "      <td>1</td>\n",
       "      <td>0</td>\n",
       "    </tr>\n",
       "    <tr>\n",
       "      <th>752</th>\n",
       "      <td>1412566724453470208</td>\n",
       "      <td>1412559319577501697</td>\n",
       "      <td>1</td>\n",
       "      <td>0</td>\n",
       "      <td>0</td>\n",
       "    </tr>\n",
       "    <tr>\n",
       "      <th>753</th>\n",
       "      <td>1412562997197762565</td>\n",
       "      <td>1412559319577501697</td>\n",
       "      <td>1</td>\n",
       "      <td>1</td>\n",
       "      <td>1</td>\n",
       "    </tr>\n",
       "  </tbody>\n",
       "</table>\n",
       "<p>754 rows × 5 columns</p>\n",
       "</div>"
      ],
      "text/plain": [
       "                reply_id             tweet_id refutation evidence politeness\n",
       "0    1335913130711371777  1335892654832320513          1        0          0\n",
       "1    1336107858140803074  1335916733148913665          1        0          0\n",
       "2    1335961370127380488  1335916733148913665          0        0          1\n",
       "3    1335988879921442818  1335977737719308294          0        0          0\n",
       "4    1335982116526546945  1335977737719308294          1        0          0\n",
       "..                   ...                  ...        ...      ...        ...\n",
       "749  1411545172903534595  1411545172903534595          0        1          0\n",
       "750  1412069858464894980  1412068692876275718          1        1          1\n",
       "751  1412581535836872706  1412559319577501697          0        1          0\n",
       "752  1412566724453470208  1412559319577501697          1        0          0\n",
       "753  1412562997197762565  1412559319577501697          1        1          1\n",
       "\n",
       "[754 rows x 5 columns]"
      ]
     },
     "execution_count": 9,
     "metadata": {},
     "output_type": "execute_result"
    }
   ],
   "source": [
    "df2 = pd.read_pickle(DATA2)\n",
    "df2"
   ]
  },
  {
   "cell_type": "code",
   "execution_count": 10,
   "metadata": {},
   "outputs": [],
   "source": [
    "import os\n",
    "\n",
    "os.environ['token_secret']\n",
    "\n",
    "keys_dict = {\n",
    "    \"consumer_key\": \"1vZkVcRCOPGMOpUAwgOo0bK5M\",\n",
    "    \"consumer_secret\": \"biGatZTZFRLUmCj2eIWxkPlSw9NuyoqysuLk9iIkDsM8pV4Ov4\",\n",
    "    \"access_token\": \"3060923399-lAW8324utfSjXMBvDBGNIvyjbusFWCzQXnRE4Vq\",\n",
    "    \"access_token_secret\": \"yaMq7IU3BGJsO9MhIr9by5elF9qkiqidkz3VwdWLTaI27\",\n",
    "    \"bearer_token\": \"AAAAAAAAAAAAAAAAAAAAAFJL%2FwAAAAAAH3WGbVUQedhKAR0sKobDPxdeIJI%3Db7jtjlvSc7MAwzkfV4Eo5Yc2ycxiaCv9xfOPMvWWtHyCf7HYpN\"\n",
    "}"
   ]
  },
  {
   "cell_type": "code",
   "execution_count": 11,
   "metadata": {},
   "outputs": [],
   "source": [
    "from tweepy import Client\n",
    "\n",
    "twitter_client = Client(\n",
    "    **keys_dict\n",
    "    # bearer_token=os.environ['bearer_token'],\n",
    "    # consumer_key=os.environ['consumer_key'],\n",
    "    # consumer_secret=os.environ['consumer_secret'],\n",
    "    # access_token=os.environ['access_token'],\n",
    "    # access_token_secret=os.environ['token_secret']\n",
    ")"
   ]
  },
  {
   "cell_type": "code",
   "execution_count": null,
   "metadata": {},
   "outputs": [],
   "source": [
    "twitter_client.get_tweets('1375154120106074114', user_auth=False)"
   ]
  },
  {
   "cell_type": "code",
   "execution_count": 9,
   "metadata": {},
   "outputs": [
    {
     "data": {
      "text/plain": [
       "'AAAAAAAAAAAAAAAAAAAAAFPnowEAAAAAbVigRpkg6JtWaf9cKqdhnE4iF80varsDGDZVtHNn2sBPTkH6SC2kvrysPm0bb6KA2rNkDUnuVUBzIHFMlf'"
      ]
     },
     "execution_count": 9,
     "metadata": {},
     "output_type": "execute_result"
    }
   ],
   "source": [
    "os.environ['bearer_token']"
   ]
  },
  {
   "cell_type": "code",
   "execution_count": 13,
   "metadata": {},
   "outputs": [
    {
     "name": "stderr",
     "output_type": "stream",
     "text": [
      "  0%|          | 0/754 [00:00<?, ?it/s]"
     ]
    },
    {
     "name": "stderr",
     "output_type": "stream",
     "text": [
      " 22%|██▏       | 168/754 [01:04<04:27,  2.19it/s]Rate limit reached. Sleeping for: 557\n",
      " 83%|████████▎ | 623/754 [13:29<00:43,  3.03it/s]    Rate limit reached. Sleeping for: 713\n",
      "100%|██████████| 754/754 [26:13<00:00,  2.09s/it]   \n"
     ]
    }
   ],
   "source": [
    "import tweepy\n",
    "from tweepy import NotFound, Forbidden\n",
    "\n",
    "from tqdm import tqdm\n",
    "\n",
    "keys_dict = {\n",
    "    \"api_key\": \"1vZkVcRCOPGMOpUAwgOo0bK5M\",\n",
    "    \"api_key_secret\": \"biGatZTZFRLUmCj2eIWxkPlSw9NuyoqysuLk9iIkDsM8pV4Ov4\",\n",
    "    \"access_token\": \"3060923399-lAW8324utfSjXMBvDBGNIvyjbusFWCzQXnRE4Vq\",\n",
    "    \"access_token_secret\": \"yaMq7IU3BGJsO9MhIr9by5elF9qkiqidkz3VwdWLTaI27\",\n",
    "    \"bearer_token\": \"AAAAAAAAAAAAAAAAAAAAAFJL%2FwAAAAAAH3WGbVUQedhKAR0sKobDPxdeIJI%3Db7jtjlvSc7MAwzkfV4Eo5Yc2ycxiaCv9xfOPMvWWtHyCf7HYpN\"\n",
    "}\n",
    "\n",
    "# instantiating the api\n",
    "auth = tweepy.OAuthHandler(keys_dict[\"api_key\"], keys_dict[\"api_key_secret\"])\n",
    "auth.set_access_token(keys_dict[\"access_token\"], keys_dict[\"access_token_secret\"])\n",
    "\n",
    "# creating API object\n",
    "api = tweepy.API(auth, wait_on_rate_limit=True)\n",
    "\n",
    "ids = []\n",
    "tweets = []\n",
    "replies = []\n",
    "for idx, row in tqdm(df2.iterrows(),  total=df2.shape[0]):\n",
    "    try:\n",
    "        tweet = api.get_status(row['tweet_id'], tweet_mode = \"extended\")._json['full_text']\n",
    "        reply = api.get_status(row['reply_id'], tweet_mode = \"extended\")._json['full_text']\n",
    "    except (NotFound, Forbidden): continue\n",
    "\n",
    "    ids.append((row['tweet_id'], row['reply_id']))\n",
    "    tweets.append(tweet)\n",
    "    replies.append(reply)\n"
   ]
  },
  {
   "cell_type": "code",
   "execution_count": 14,
   "metadata": {},
   "outputs": [],
   "source": [
    "# Make a tsv\n",
    "\n",
    "social_df = pd.DataFrame(columns=['tweet_id', 'tweet', 'reply_id', 'reply'])\n",
    "\n",
    "social_df['tweet_id'] = [i[0] for i in ids]\n",
    "social_df['tweet'] = tweets\n",
    "social_df['reply_id'] = [i[1] for i in ids]\n",
    "social_df['reply'] = replies\n",
    "\n",
    "social_df.to_csv(\n",
    "    r\"C:\\Users\\nashe\\Box\\Research\\misinfo-prj\\datasets\\scraped_socialmedia_data.tsv\",\n",
    "    sep='\\t',\n",
    "    index=False\n",
    ")"
   ]
  },
  {
   "cell_type": "code",
   "execution_count": 15,
   "metadata": {},
   "outputs": [
    {
     "name": "stderr",
     "output_type": "stream",
     "text": [
      "100%|██████████| 591/591 [02:01<00:00,  4.88it/s]\n"
     ]
    }
   ],
   "source": [
    "crowd_ids = []\n",
    "crowd_tweets = []\n",
    "for idx, row in tqdm(df.iterrows(),  total=df.shape[0]):\n",
    "    try:\n",
    "        tweet = api.get_status(row['tweet_id'], tweet_mode = \"extended\")._json['full_text']\n",
    "    except (NotFound, Forbidden): continue\n",
    "\n",
    "    crowd_ids.append(row['tweet_id'])\n",
    "    crowd_tweets.append(tweet)\n"
   ]
  },
  {
   "cell_type": "code",
   "execution_count": 20,
   "metadata": {},
   "outputs": [],
   "source": [
    "# Make a tsv\n",
    "\n",
    "crowd_df = pd.DataFrame(columns=['tweet_id', 'tweet'])\n",
    "\n",
    "crowd_df['tweet_id'] = crowd_ids\n",
    "crowd_df['tweet'] = crowd_tweets\n",
    "crowd_df.to_csv(\n",
    "    r\"C:\\Users\\nashe\\Box\\Research\\misinfo-prj\\datasets\\scraped_crowdsource_data.tsv\",\n",
    "    sep='\\t',\n",
    "    index=False\n",
    ")"
   ]
  },
  {
   "cell_type": "code",
   "execution_count": 23,
   "metadata": {},
   "outputs": [
    {
     "data": {
      "text/plain": [
       "{'created_at': 'Sat May 22 04:29:31 +0000 2021',\n",
       " 'id': 1395959987726274561,\n",
       " 'id_str': '1395959987726274561',\n",
       " 'full_text': 'Covid19 was a bioweapon &amp; so is the vaccine! First they killed people w Covid. Then they scared them into taking a vaccine. Now the vaccine is shedding into the general public. Ultimately the population will be greatly reduced thru Covid deaths, vaccine deaths &amp; sterilization.',\n",
       " 'truncated': False,\n",
       " 'display_text_range': [0, 285],\n",
       " 'entities': {'hashtags': [], 'symbols': [], 'user_mentions': [], 'urls': []},\n",
       " 'source': '<a href=\"http://twitter.com/download/iphone\" rel=\"nofollow\">Twitter for iPhone</a>',\n",
       " 'in_reply_to_status_id': None,\n",
       " 'in_reply_to_status_id_str': None,\n",
       " 'in_reply_to_user_id': None,\n",
       " 'in_reply_to_user_id_str': None,\n",
       " 'in_reply_to_screen_name': None,\n",
       " 'user': {'id': 16456394,\n",
       "  'id_str': '16456394',\n",
       "  'name': 'Dr. Shannon Kroner',\n",
       "  'screen_name': 'drshannonkroner',\n",
       "  'location': 'Los Angeles, CA',\n",
       "  'description': 'Executive Director of FOR-US, Doctor of Psychology, Freedom Fighter, Special Needs Advocate, Author of ‘I’m Unvaccinated and That’s OK!’ ♥️🇺🇸🙏🏻',\n",
       "  'url': 'https://t.co/BIt4E6QLI4',\n",
       "  'entities': {'url': {'urls': [{'url': 'https://t.co/BIt4E6QLI4',\n",
       "      'expanded_url': 'http://www.drshannonkroner.com',\n",
       "      'display_url': 'drshannonkroner.com',\n",
       "      'indices': [0, 23]}]},\n",
       "   'description': {'urls': []}},\n",
       "  'protected': False,\n",
       "  'followers_count': 6387,\n",
       "  'friends_count': 5014,\n",
       "  'listed_count': 32,\n",
       "  'created_at': 'Thu Sep 25 19:31:48 +0000 2008',\n",
       "  'favourites_count': 11789,\n",
       "  'utc_offset': None,\n",
       "  'time_zone': None,\n",
       "  'geo_enabled': True,\n",
       "  'verified': False,\n",
       "  'statuses_count': 9468,\n",
       "  'lang': None,\n",
       "  'contributors_enabled': False,\n",
       "  'is_translator': False,\n",
       "  'is_translation_enabled': False,\n",
       "  'profile_background_color': '9AE4E8',\n",
       "  'profile_background_image_url': 'http://abs.twimg.com/images/themes/theme1/bg.png',\n",
       "  'profile_background_image_url_https': 'https://abs.twimg.com/images/themes/theme1/bg.png',\n",
       "  'profile_background_tile': False,\n",
       "  'profile_image_url': 'http://pbs.twimg.com/profile_images/876170364975554562/y30D9z4X_normal.jpg',\n",
       "  'profile_image_url_https': 'https://pbs.twimg.com/profile_images/876170364975554562/y30D9z4X_normal.jpg',\n",
       "  'profile_banner_url': 'https://pbs.twimg.com/profile_banners/16456394/1586629719',\n",
       "  'profile_link_color': '17556B',\n",
       "  'profile_sidebar_border_color': 'BDDCAD',\n",
       "  'profile_sidebar_fill_color': 'DDFFCC',\n",
       "  'profile_text_color': '333333',\n",
       "  'profile_use_background_image': True,\n",
       "  'has_extended_profile': False,\n",
       "  'default_profile': False,\n",
       "  'default_profile_image': False,\n",
       "  'following': False,\n",
       "  'follow_request_sent': False,\n",
       "  'notifications': False,\n",
       "  'translator_type': 'none',\n",
       "  'withheld_in_countries': []},\n",
       " 'geo': None,\n",
       " 'coordinates': None,\n",
       " 'place': None,\n",
       " 'contributors': None,\n",
       " 'is_quote_status': False,\n",
       " 'retweet_count': 5,\n",
       " 'favorite_count': 24,\n",
       " 'favorited': False,\n",
       " 'retweeted': False,\n",
       " 'lang': 'en'}"
      ]
     },
     "execution_count": 23,
     "metadata": {},
     "output_type": "execute_result"
    }
   ],
   "source": [
    "twt"
   ]
  },
  {
   "cell_type": "code",
   "execution_count": null,
   "metadata": {},
   "outputs": [],
   "source": []
  }
 ],
 "metadata": {
  "kernelspec": {
   "display_name": "Python 3.6.8 64-bit",
   "language": "python",
   "name": "python3"
  },
  "language_info": {
   "codemirror_mode": {
    "name": "ipython",
    "version": 3
   },
   "file_extension": ".py",
   "mimetype": "text/x-python",
   "name": "python",
   "nbconvert_exporter": "python",
   "pygments_lexer": "ipython3",
   "version": "3.6.8"
  },
  "orig_nbformat": 4,
  "vscode": {
   "interpreter": {
    "hash": "916dbcbb3f70747c44a77c7bcd40155683ae19c65e1c03b4aa3499c5328201f1"
   }
  }
 },
 "nbformat": 4,
 "nbformat_minor": 2
}
