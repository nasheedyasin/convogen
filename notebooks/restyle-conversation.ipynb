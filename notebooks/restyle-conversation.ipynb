{
 "cells": [
  {
   "cell_type": "markdown",
   "metadata": {},
   "source": [
    "## Data Setup"
   ]
  },
  {
   "cell_type": "markdown",
   "metadata": {},
   "source": [
    "### Fetch Conversations"
   ]
  },
  {
   "cell_type": "code",
   "execution_count": 1,
   "metadata": {},
   "outputs": [],
   "source": [
    "import json\n",
    "import pathlib\n",
    "from typing import Any, Dict, List\n",
    "\n",
    "from datautils import ConversationDataset\n",
    "\n",
    "\n",
    "expt_name = \"expt3_1\"\n",
    "\n",
    "conv_dir = f\"../datasets/inst-templates/{expt_name}/conversations\"\n",
    "conv_dir = pathlib.Path(conv_dir)\n",
    "\n",
    "conversation_dataset = ConversationDataset(conv_dir)"
   ]
  },
  {
   "cell_type": "markdown",
   "metadata": {},
   "source": [
    "### Prompt setup"
   ]
  },
  {
   "cell_type": "code",
   "execution_count": 2,
   "metadata": {},
   "outputs": [],
   "source": [
    "task_que = '(restyled-conversation)'\n",
    "system_message = \"You are an expert in restyling 2-party dialogs.\"\n",
    "# system_message = \"\""
   ]
  },
  {
   "cell_type": "code",
   "execution_count": 3,
   "metadata": {},
   "outputs": [],
   "source": [
    "batch_size = 16\n",
    "\n",
    "expt_setup = json.loads(\n",
    "    pathlib.Path(\n",
    "        f'../datasets/inst-templates/{expt_name}/expt-setup.json'\n",
    "    ).read_bytes()\n",
    ")"
   ]
  },
  {
   "cell_type": "code",
   "execution_count": 4,
   "metadata": {},
   "outputs": [
    {
     "data": {
      "text/plain": [
       "'meta-llama/Llama-2-70b-chat-hf'"
      ]
     },
     "execution_count": 4,
     "metadata": {},
     "output_type": "execute_result"
    }
   ],
   "source": [
    "expt_setup['llm']"
   ]
  },
  {
   "cell_type": "markdown",
   "metadata": {},
   "source": [
    "### Fetch instruction template"
   ]
  },
  {
   "cell_type": "code",
   "execution_count": 5,
   "metadata": {},
   "outputs": [],
   "source": [
    "inst_path = pathlib.Path(f'../datasets/inst-templates/{expt_name}/conv-restyle.txt')\n",
    "inst = inst_path.read_text()"
   ]
  },
  {
   "cell_type": "markdown",
   "metadata": {},
   "source": [
    "## Batch Restyle Conversations"
   ]
  },
  {
   "cell_type": "code",
   "execution_count": 6,
   "metadata": {},
   "outputs": [],
   "source": [
    "output_dir = pathlib.Path(f\"../datasets/inst-templates/{expt_name}/restyled-conversations\")\n",
    "output_dir.mkdir(parents=True, exist_ok=True)"
   ]
  },
  {
   "cell_type": "code",
   "execution_count": 7,
   "metadata": {},
   "outputs": [
    {
     "data": {
      "application/vnd.jupyter.widget-view+json": {
       "model_id": "cda9a94027674b739339cc80d14d75dc",
       "version_major": 2,
       "version_minor": 0
      },
      "text/plain": [
       "Loading checkpoint shards:   0%|          | 0/15 [00:00<?, ?it/s]"
      ]
     },
     "metadata": {},
     "output_type": "display_data"
    }
   ],
   "source": [
    "import torch # Incase you want to load in half precision: `torch.float16`\n",
    "from generation_utils import BatchTextGenerator\n",
    "\n",
    "# Refer: https://stackoverflow.com/a/77354686/10944913\n",
    "text_gen = BatchTextGenerator(expt_setup['llm'], load_in_4bit=True, bnb_4bit_compute_dtype=torch.float16)"
   ]
  },
  {
   "cell_type": "code",
   "execution_count": 11,
   "metadata": {},
   "outputs": [
    {
     "name": "stderr",
     "output_type": "stream",
     "text": [
      "Processing batch: 100%|██████████| 31/31 [6:28:32<00:00, 752.02s/it]  \n"
     ]
    }
   ],
   "source": [
    "import json\n",
    "from tqdm import tqdm\n",
    "from torch.utils.data import DataLoader\n",
    "\n",
    "\n",
    "convo_dataloader = DataLoader(conversation_dataset, batch_size=batch_size)\n",
    "\n",
    "convo_dataloader = tqdm(\n",
    "    convo_dataloader,\n",
    "    desc=\"Processing batch\"\n",
    ")\n",
    "\n",
    "for batch_convos in convo_dataloader:\n",
    "    # Torch Datasets group keys similar to how\n",
    "    # hf's tokenizers does\n",
    "    instructions = [\n",
    "        inst.format(convo) for convo in batch_convos['conv']\n",
    "    ]\n",
    "\n",
    "    batch_op = text_gen(system_message, task_que, instructions)\n",
    "\n",
    "    # Build and save output jsons\n",
    "    for fname, tweet_id, restyled_convo in zip(\n",
    "        batch_convos[\"original_file_name\"],\n",
    "        batch_convos[\"tweet_id\"].tolist(),\n",
    "        batch_op\n",
    "    ):\n",
    "        convo_json = {\n",
    "            \"tweet_id\": tweet_id,\n",
    "            \"restyled_conv\": restyled_convo\n",
    "        }\n",
    "\n",
    "        convo_file = output_dir.joinpath(fname)\n",
    "        convo_file.write_text(json.dumps(convo_json))\n"
   ]
  }
 ],
 "metadata": {
  "kernelspec": {
   "display_name": "Python 3.11.4",
   "language": "python",
   "name": "python3"
  },
  "language_info": {
   "codemirror_mode": {
    "name": "ipython",
    "version": 3
   },
   "file_extension": ".py",
   "mimetype": "text/x-python",
   "name": "python",
   "nbconvert_exporter": "python",
   "pygments_lexer": "ipython3",
   "version": "3.11.5"
  },
  "orig_nbformat": 4,
  "vscode": {
   "interpreter": {
    "hash": "4e75b6be2e5658e850e4723bf6b27c4b091414b284627d2be0c94c459b19cd59"
   }
  }
 },
 "nbformat": 4,
 "nbformat_minor": 2
}
