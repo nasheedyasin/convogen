{
 "cells": [
  {
   "cell_type": "markdown",
   "metadata": {},
   "source": [
    "## Data Setup"
   ]
  },
  {
   "cell_type": "code",
   "execution_count": null,
   "metadata": {},
   "outputs": [],
   "source": [
    "task_que = '(conversation)'\n",
    "# system_message = \"You are an expert dialog writer. You write compelling conversations with characters that have rich, well developed personalities.\"\n",
    "system_message = \"\""
   ]
  },
  {
   "cell_type": "markdown",
   "metadata": {},
   "source": [
    "### Fetch Tweets"
   ]
  },
  {
   "cell_type": "code",
   "execution_count": null,
   "metadata": {},
   "outputs": [],
   "source": [
    "import pandas as pd\n",
    "\n",
    "data_path = \"../datasets/sample-tweets.csv\"\n",
    "df = pd.read_csv(data_path)#, delimiter='\\t')"
   ]
  },
  {
   "cell_type": "markdown",
   "metadata": {},
   "source": [
    "### Fetch User Disposition"
   ]
  },
  {
   "cell_type": "code",
   "execution_count": null,
   "metadata": {},
   "outputs": [],
   "source": [
    "batch_size = 128"
   ]
  },
  {
   "cell_type": "code",
   "execution_count": null,
   "metadata": {},
   "outputs": [],
   "source": [
    "import random\n",
    "import pathlib\n",
    "\n",
    "expt_name = \"expt2_2\"\n",
    "\n",
    "# Choosing the misinformed person's disposition\n",
    "disposition_dir = pathlib.Path(f'../datasets/inst-templates/{expt_name}/dispositions')\n",
    "dispositions = random.choices(sorted(disposition_dir.glob('*.txt')), k=batch_size)\n",
    "dispositions = [disp.read_text() for disp in dispositions]\n",
    "\n",
    "# Choosing the misinformed person's motivation\n",
    "motivation_dir = pathlib.Path(f'../datasets/inst-templates/{expt_name}/motivations')\n",
    "motivations = random.choices(sorted(motivation_dir.glob('*.txt')), k=batch_size)\n",
    "motivations = [motv.read_text() for motv in motivations]\n",
    "\n",
    "# Defining convo resolution:\n",
    "CONV_RESOLUTION = ['resolved', 'unresolved']"
   ]
  },
  {
   "cell_type": "markdown",
   "metadata": {},
   "source": [
    "### Fetch instruction template"
   ]
  },
  {
   "cell_type": "code",
   "execution_count": null,
   "metadata": {},
   "outputs": [],
   "source": [
    "inst_path = pathlib.Path(f'../datasets/inst-templates/{expt_name}/conv-gen.txt')\n",
    "inst = inst_path.read_text()"
   ]
  },
  {
   "cell_type": "markdown",
   "metadata": {},
   "source": [
    "## Batch Generate Conversations"
   ]
  },
  {
   "cell_type": "code",
   "execution_count": null,
   "metadata": {},
   "outputs": [],
   "source": [
    "output_dir = pathlib.Path(f\"../datasets/inst-templates/{expt_name}/conversations\")"
   ]
  },
  {
   "cell_type": "code",
   "execution_count": null,
   "metadata": {},
   "outputs": [],
   "source": [
    "from utils import BatchTextGenerator\n",
    "\n",
    "text_gen = BatchTextGenerator('mistralai/Mistral-7B-Instruct-v0.1', load_in_8bit=False)"
   ]
  },
  {
   "cell_type": "code",
   "execution_count": null,
   "metadata": {},
   "outputs": [],
   "source": [
    "import json\n",
    "from tqdm import tqdm\n",
    "\n",
    "\n",
    "df_with_progbar = tqdm(df.groupby(df.index//batch_size), desc=\"Processing batch\")\n",
    "\n",
    "for batch_idx, batch_df in df_with_progbar:\n",
    "    idxes = list(batch_df.index)\n",
    "    tweet_ids = list(batch_df['tweet_id'])\n",
    "    instructions = [\n",
    "        inst.format(disp, motv, tweet)\n",
    "            for disp, motv, (_, _, tweet) in zip(\n",
    "                dispositions,\n",
    "                motivations,\n",
    "                batch_df.itertuples()\n",
    "            )\n",
    "    ]\n",
    "\n",
    "    batch_op = text_gen(system_message, task_que, instructions)\n",
    "\n",
    "    # Build output jsons\n",
    "    for idx, id, conv, (_, _, tweet), disp, motv in zip(\n",
    "        idxes, tweet_ids, batch_op,\n",
    "        batch_df.itertuples(),\n",
    "        dispositions, motivations\n",
    "    ):\n",
    "        conv_json = {\n",
    "            'tweet_id': id,\n",
    "            'disposition': disp,\n",
    "            'motivation': motv,\n",
    "            'tweet': tweet,\n",
    "            'conv': conv\n",
    "        }\n",
    "\n",
    "        conv_file = output_dir.joinpath(f'{idx}.json')\n",
    "        conv_file.write_text(json.dumps(conv_json))\n"
   ]
  }
 ],
 "metadata": {
  "kernelspec": {
   "display_name": "Python 3.11.4",
   "language": "python",
   "name": "python3"
  },
  "language_info": {
   "codemirror_mode": {
    "name": "ipython",
    "version": 3
   },
   "file_extension": ".py",
   "mimetype": "text/x-python",
   "name": "python",
   "nbconvert_exporter": "python",
   "pygments_lexer": "ipython3",
   "version": "3.11.5"
  },
  "orig_nbformat": 4,
  "vscode": {
   "interpreter": {
    "hash": "4e75b6be2e5658e850e4723bf6b27c4b091414b284627d2be0c94c459b19cd59"
   }
  }
 },
 "nbformat": 4,
 "nbformat_minor": 2
}
