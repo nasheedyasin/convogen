{
 "cells": [
  {
   "cell_type": "markdown",
   "metadata": {},
   "source": [
    "## Data Setup"
   ]
  },
  {
   "cell_type": "code",
   "execution_count": 2,
   "metadata": {},
   "outputs": [],
   "source": [
    "task_que = '(conversation)'\n",
    "system_message = \"You are an expert in generating realistic 2-party dialogs.\"\n",
    "# system_message = \"\""
   ]
  },
  {
   "cell_type": "markdown",
   "metadata": {},
   "source": [
    "### Fetch Tweets"
   ]
  },
  {
   "cell_type": "code",
   "execution_count": 3,
   "metadata": {},
   "outputs": [],
   "source": [
    "import pandas as pd\n",
    "\n",
    "data_path = \"../datasets/sample-tweets.csv\"\n",
    "df = pd.read_csv(data_path)#, delimiter='\\t')"
   ]
  },
  {
   "cell_type": "markdown",
   "metadata": {},
   "source": [
    "### Build User profile"
   ]
  },
  {
   "cell_type": "code",
   "execution_count": 4,
   "metadata": {},
   "outputs": [],
   "source": [
    "batch_size = 128"
   ]
  },
  {
   "cell_type": "code",
   "execution_count": 6,
   "metadata": {},
   "outputs": [],
   "source": [
    "import json\n",
    "import random\n",
    "import pathlib\n",
    "\n",
    "expt_name = \"expt3\"\n",
    "\n",
    "expt_setup = json.loads(\n",
    "    pathlib.Path(\n",
    "        f'../datasets/inst-templates/{expt_name}/expt-setup.json'\n",
    "    ).read_bytes()\n",
    ")\n",
    "\n",
    "raw_user_profiles = expt_setup['user_profiles']"
   ]
  },
  {
   "cell_type": "code",
   "execution_count": 5,
   "metadata": {},
   "outputs": [],
   "source": [
    "# These are a list of pairings of the user's motivations and dispositions\n",
    "user_profiles = []\n",
    "\n",
    "for motivation in raw_user_profiles:\n",
    "    for disposition in motivation['dispositions']:\n",
    "        user_profiles.append(\n",
    "            (\n",
    "                pathlib.Path(motivation['path']).read_text(),\n",
    "                pathlib.Path(disposition['path']).read_text()\n",
    "            )\n",
    "        )\n",
    "\n",
    "user_profiles = random.choices(user_profiles, k=batch_size)"
   ]
  },
  {
   "cell_type": "markdown",
   "metadata": {},
   "source": [
    "### Fetch instruction template"
   ]
  },
  {
   "cell_type": "code",
   "execution_count": 6,
   "metadata": {},
   "outputs": [],
   "source": [
    "inst_path = pathlib.Path(f'../datasets/inst-templates/{expt_name}/conv-gen.txt')\n",
    "inst = inst_path.read_text()"
   ]
  },
  {
   "cell_type": "markdown",
   "metadata": {},
   "source": [
    "## Batch Generate Conversations"
   ]
  },
  {
   "cell_type": "code",
   "execution_count": 7,
   "metadata": {},
   "outputs": [],
   "source": [
    "output_dir = pathlib.Path(f\"../datasets/inst-templates/{expt_name}/conversations\")"
   ]
  },
  {
   "cell_type": "code",
   "execution_count": 8,
   "metadata": {},
   "outputs": [
    {
     "data": {
      "application/vnd.jupyter.widget-view+json": {
       "model_id": "58de1f01018e4ebca67fb092ed31a311",
       "version_major": 2,
       "version_minor": 0
      },
      "text/plain": [
       "Loading checkpoint shards:   0%|          | 0/2 [00:00<?, ?it/s]"
      ]
     },
     "metadata": {},
     "output_type": "display_data"
    }
   ],
   "source": [
    "from utils import BatchTextGenerator\n",
    "\n",
    "text_gen = BatchTextGenerator(expt_setup['llm'], load_in_8bit=False)"
   ]
  },
  {
   "cell_type": "code",
   "execution_count": 10,
   "metadata": {},
   "outputs": [
    {
     "name": "stderr",
     "output_type": "stream",
     "text": [
      "Processing batch: 100%|██████████| 1/1 [01:12<00:00, 72.18s/it]\n"
     ]
    }
   ],
   "source": [
    "import json\n",
    "from tqdm import tqdm\n",
    "\n",
    "\n",
    "df_with_progbar = tqdm(df.groupby(df.index//batch_size), desc=\"Processing batch\")\n",
    "\n",
    "for batch_idx, batch_df in df_with_progbar:\n",
    "    idxes = list(batch_df.index)\n",
    "    tweet_ids = list(batch_df['tweet_id'])\n",
    "    instructions = [\n",
    "        inst.format(disp, motv, tweet)\n",
    "            for (disp, motv), (_, _, tweet) in zip(\n",
    "                user_profiles,\n",
    "                batch_df.itertuples()\n",
    "            )\n",
    "    ]\n",
    "\n",
    "    batch_op = text_gen(system_message, task_que, instructions)\n",
    "\n",
    "    # Build output jsons\n",
    "    for idx, id, conv, (_, _, tweet), (disp, motv) in zip(\n",
    "        idxes, tweet_ids, batch_op,\n",
    "        batch_df.itertuples(),\n",
    "        user_profiles\n",
    "    ):\n",
    "        conv_json = {\n",
    "            'tweet_id': id,\n",
    "            'disposition': disp,\n",
    "            'motivation': motv,\n",
    "            'tweet': tweet,\n",
    "            'conv': conv\n",
    "        }\n",
    "\n",
    "        conv_file = output_dir.joinpath(f'{idx}.json')\n",
    "        conv_file.write_text(json.dumps(conv_json))\n"
   ]
  }
 ],
 "metadata": {
  "kernelspec": {
   "display_name": "Python 3.11.4",
   "language": "python",
   "name": "python3"
  },
  "language_info": {
   "codemirror_mode": {
    "name": "ipython",
    "version": 3
   },
   "file_extension": ".py",
   "mimetype": "text/x-python",
   "name": "python",
   "nbconvert_exporter": "python",
   "pygments_lexer": "ipython3",
   "version": "3.11.5"
  },
  "orig_nbformat": 4,
  "vscode": {
   "interpreter": {
    "hash": "4e75b6be2e5658e850e4723bf6b27c4b091414b284627d2be0c94c459b19cd59"
   }
  }
 },
 "nbformat": 4,
 "nbformat_minor": 2
}
